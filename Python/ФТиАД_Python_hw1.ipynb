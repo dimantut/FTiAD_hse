{
 "cells": [
  {
   "cell_type": "markdown",
   "id": "11fcf617",
   "metadata": {},
   "source": [
    "Всем привет! \n",
    "\n",
    "Это ваше первое домашнее задание))\n",
    "\n",
    "Списывать нельзя, гуглить можно) \n",
    "\n",
    "Что надо помнить: пишите код красиво, контролируйте код-стайл, нормальную структуру, импорты и все, что мы говорили на занятиях.\n",
    "\n",
    "Дедлайн: пятница 17 ноября в 23:59\n",
    "\n",
    "Решения на почту - skvortsovg@yandex.ru\n",
    "\n",
    "Пожалуйста, напишите в теме письма так: **ФТиАД23: python_дз1 Фамилия Имя**"
   ]
  },
  {
   "cell_type": "markdown",
   "id": "78d6b9ea",
   "metadata": {},
   "source": [
    "### Задача 1 (расстояние между точками на земле)\n",
    "\n",
    "Напишите программу, в которой пользователь будет вводить координаты двух точек на Земле (широту и долготу) в градусах. На выходе должно получиться расстояние между этими точками при следовании по кратчайшему пути по поверхности планеты.\n",
    "\n"
   ]
  },
  {
   "cell_type": "code",
   "execution_count": 57,
   "id": "06eef44a",
   "metadata": {},
   "outputs": [
    {
     "name": "stdin",
     "output_type": "stream",
     "text": [
      "Введите широту и долготу первой точки x1 через пробел: 65 32\n",
      "Введите широту и долготу второй точки x2 через пробел: 76 12\n"
     ]
    },
    {
     "name": "stdout",
     "output_type": "stream",
     "text": [
      "\n",
      "Кратчайшее расстояние между точками с координатами x1(65.0, 32.0) и x2(76.0, 12.0) \n",
      "на планете Земля с радиусом  6373км - 1415км\n"
     ]
    }
   ],
   "source": [
    "from math import sin, cos, sqrt, atan2, radians\n",
    "\n",
    "class Planet:\n",
    "    default_radius = 6373\n",
    "    default_name = 'Земля'\n",
    "    \n",
    "    def __init__(self, name=default_name, radius=default_radius):\n",
    "        self.name = name\n",
    "        self.radius = radius\n",
    "\n",
    "    def distance_between_two_locs(self, loc_1: list, loc_2: list):\n",
    "        lat1, lon1 = loc_1\n",
    "        lat2, lon2 = loc_2\n",
    "        \n",
    "        dlat = lat2 - lat1\n",
    "        dlon = lon2 - lon1\n",
    "\n",
    "        a = sin(dlat / 2)**2 + cos(lat1) * cos(lat2) * sin(dlon / 2)**2\n",
    "        c = 2 * atan2(sqrt(a), sqrt(1 - a))\n",
    "\n",
    "        distance = self.radius * c\n",
    "        \n",
    "        return distance\n",
    "\n",
    "class Location:\n",
    "    def __init__(self, coordinates):\n",
    "        if (coordinates[0] >= -90 and coordinates[0] <= 90\n",
    "            and coordinates[1] >= -180 and coordinates[1] <= 180):\n",
    "            self.coordinates = coordinates\n",
    "        else:\n",
    "            raise ValueError(\"Latitude must be between [-90;90] and longitude - between [-180;180]\")\n",
    "\n",
    "    def coor_to_radians(self):\n",
    "        self.coordinates = list(map(radians, self.coordinates))\n",
    "\n",
    "\n",
    "lat1, lon1 = [float(a) for a in input('Введите широту и долготу первой точки x1 через пробел:').split(' ')]\n",
    "location_1 = Location([lat1, lon1])\n",
    "location_1.coor_to_radians()\n",
    "\n",
    "lat2, lon2 = [float(a) for a in input('Введите широту и долготу второй точки x2 через пробел:').split(' ')]\n",
    "location_2 = Location([lat2, lon2])\n",
    "location_2.coor_to_radians()\n",
    "\n",
    "earth = Planet()\n",
    "distance = earth.distance_between_two_locs(location_1.coordinates, location_2.coordinates)\n",
    "distance = round(distance)\n",
    "print(f'\\nКратчайшее расстояние между точками с координатами x1({lat1}, {lon1}) и x2({lat2}, {lon2}) \\\n",
    "\\nна планете {Planet().name} с радиусом  {Planet().radius}км - {distance}км')"
   ]
  },
  {
   "cell_type": "markdown",
   "id": "f082ea61",
   "metadata": {},
   "source": [
    "### Задача 2 (максимальная сумма)\n",
    "\n",
    "Ввести в столбик последовательность целых (положительных и отрицательных) чисел, не равных нулю; в конце этой последовательности стоит 0. Вывести наибольшую сумму последовательно идущих элементов этой последовательности (не менее одного).\n",
    "\n"
   ]
  },
  {
   "cell_type": "code",
   "execution_count": 213,
   "id": "1018430c",
   "metadata": {},
   "outputs": [
    {
     "name": "stdin",
     "output_type": "stream",
     "text": [
      "Введите число (для завершения введите 0):  -65\n",
      "Введите число (для завершения введите 0):  34\n",
      "Введите число (для завершения введите 0):  656\n",
      "Введите число (для завершения введите 0):  -45\n",
      "Введите число (для завершения введите 0):  0\n"
     ]
    },
    {
     "name": "stdout",
     "output_type": "stream",
     "text": [
      "Наибольшая сумма последовательно идущих элементов: 690\n"
     ]
    }
   ],
   "source": [
    "def max_sequence_sum(list_of_subsequences):\n",
    "    max_sum = current_sum = 0\n",
    "\n",
    "    for num in list_of_subsequences:\n",
    "        current_sum = max(0, current_sum + num)\n",
    "        max_sum = max(max_sum, current_sum)\n",
    "\n",
    "    return max_sum\n",
    "\n",
    "list_of_subsequences = []\n",
    "while True:\n",
    "    num = int(input(\"Введите число (для завершения введите 0): \"))\n",
    "    if num == 0:\n",
    "        break\n",
    "    list_of_subsequences.append(num)\n",
    "\n",
    "solution = max_sequence_sum(list_of_subsequences)\n",
    "\n",
    "print(f'Наибольшая сумма последовательно идущих элементов: {solution}')"
   ]
  },
  {
   "cell_type": "code",
   "execution_count": null,
   "id": "3d82b728-661f-4705-8159-e6247ad4e5d7",
   "metadata": {},
   "outputs": [],
   "source": [
    "[-24, -25, 100, 54, -2, 84, -84, 56, 98, -85, -58, 43, -54, -45, 0]"
   ]
  },
  {
   "cell_type": "markdown",
   "id": "1744bcff",
   "metadata": {},
   "source": [
    "### Задача 3 (сумма кубов)\n",
    "\n",
    "Ввести натуральное число N и вывести, сколько существует различных пар натуральных чисел A и B: A³+B³=N (с точностью до перестановки).  Вещественные операции (например, кубический корень) рекомендуется использовать как можно реже."
   ]
  },
  {
   "cell_type": "code",
   "execution_count": 138,
   "id": "d50b51b1",
   "metadata": {},
   "outputs": [
    {
     "name": "stdin",
     "output_type": "stream",
     "text": [
      "Введите число: 255887632271495\n"
     ]
    },
    {
     "data": {
      "text/plain": [
       "[[54511, 45454]]"
      ]
     },
     "execution_count": 138,
     "metadata": {},
     "output_type": "execute_result"
    }
   ],
   "source": [
    "'''\n",
    "Воспользовался тем фактом, что последняя цифра числа возведенного в куб зависит только от последней цифры числа, которое в куб\n",
    "возводится -> если число оканчивается на 2, то куб его оканчивается на 8, если на 3, то на 7 и так далее\n",
    "данный факт поможет сократить число операций\n",
    "'''\n",
    "\n",
    "last_digit = {}\n",
    "for i in range(10):\n",
    "    ramainder = (i**3) % 10\n",
    "    last_digit[i] = ramainder\n",
    "\n",
    "def find_pair_of_cubes(N):\n",
    "    pairs = []\n",
    "    a = 1\n",
    "    while a**3 < N:\n",
    "        difference = N - a**3\n",
    "        b = 1\n",
    "        while b <= a:\n",
    "            if b % 10 == last_digit[difference % 10]:\n",
    "                if b**3 == difference:\n",
    "                    pairs.append([a,b])\n",
    "                    b += 1\n",
    "                else:\n",
    "                    b += 1\n",
    "            else:\n",
    "                b += 1\n",
    "        a += 1\n",
    "    return(pairs)\n",
    "\n",
    "N = int(input('Введите число:'))\n",
    "find_pair_of_cubes(N)"
   ]
  },
  {
   "cell_type": "code",
   "execution_count": 137,
   "id": "57fb52f9-1851-40df-b1b2-44d3a82ca7dc",
   "metadata": {},
   "outputs": [
    {
     "data": {
      "text/plain": [
       "255887632271495"
      ]
     },
     "execution_count": 137,
     "metadata": {},
     "output_type": "execute_result"
    }
   ],
   "source": [
    "45454**3 + 54511**3"
   ]
  },
  {
   "cell_type": "markdown",
   "id": "babe76f4",
   "metadata": {},
   "source": [
    "### Задача 4 (Разложение на множители)\n",
    "Ввести произвольное натуральное число, не превосходящее 1000000000 \n",
    "\n",
    "Вывести (через «*») все его разложения на натуральные сомножители, превосходящие 1, без учёта перестановок. Сомножители в каждом разложении и сами разложения (как последовательности) при выводе должны быть упорядочены по возрастанию. Само число также считается разложением."
   ]
  },
  {
   "cell_type": "code",
   "execution_count": null,
   "id": "15f756ce",
   "metadata": {},
   "outputs": [],
   "source": []
  },
  {
   "cell_type": "markdown",
   "id": "f5a61434",
   "metadata": {},
   "source": [
    "### Задача 5 (Переворот числа)\n",
    "Пусть на вход дается челое 32-х битное число (может быть и отрицательное)\n",
    "\n",
    "Необходимо вернуть его перевернутую версию, например, для числа -123 ответом будет -321, а для числа -1 будет 1, а для 10101010 - 101010\n",
    "\n",
    "Пользоваться строковыми методами *нельзя*"
   ]
  },
  {
   "cell_type": "code",
   "execution_count": 204,
   "id": "6657b0f2",
   "metadata": {},
   "outputs": [
    {
     "name": "stdin",
     "output_type": "stream",
     "text": [
      "Введите целое число:  -767676\n"
     ]
    },
    {
     "name": "stdout",
     "output_type": "stream",
     "text": [
      "Перевернутое число: -676767\n"
     ]
    }
   ],
   "source": [
    "def reversed_number(integer):\n",
    "    sign = 1 if integer >= 0 else -1\n",
    "    integer = abs(integer)\n",
    "    reversed_int = 0\n",
    "\n",
    "    while integer != 0:\n",
    "        next_digit = integer % 10\n",
    "        reversed_int = reversed_int * 10 + next_digit\n",
    "        integer //= 10\n",
    "\n",
    "    return sign * reversed_int\n",
    "\n",
    "integer = int(input(\"Введите целое число: \"))\n",
    "result = reversed_number(integer)\n",
    "print(f\"Перевернутое число: {result}\")"
   ]
  },
  {
   "cell_type": "markdown",
   "id": "2d504bd6",
   "metadata": {},
   "source": [
    "### Задача 6 (Перевод числа в римской записи а арабскую):\n",
    "\n",
    "На вход подается строка, представляющая натуральное число в римской записи (из символов I, V, X, C, L, M). Требуется представить его в арабской записи. Подробнее про арабские числа можно почитать на [википедии](https://ru.wikipedia.org/wiki/%D0%A0%D0%B8%D0%BC%D1%81%D0%BA%D0%B8%D0%B5_%D1%86%D0%B8%D1%84%D1%80%D1%8B)"
   ]
  },
  {
   "cell_type": "code",
   "execution_count": null,
   "id": "ac7aa1fa",
   "metadata": {},
   "outputs": [],
   "source": []
  },
  {
   "cell_type": "markdown",
   "id": "9a5394dc",
   "metadata": {},
   "source": [
    "### Задача 7 (Группировка итератора)\n",
    "\n",
    "Напишите итератор (вспомните про **yield**), которая возвращает строку длины N\n",
    "\n",
    "Напишите вспомогательную функцию, которая будет принимать результат итератора и комбинировать его в чанки заданной длины\n"
   ]
  },
  {
   "cell_type": "code",
   "execution_count": null,
   "id": "51e53410",
   "metadata": {},
   "outputs": [],
   "source": [
    "def my_string_generator(N):\n",
    "    pass\n",
    "\n",
    "def chanker(itarable, chunk_size=2) -> tuple:\n",
    "    pass\n",
    "\n",
    "N = 10\n",
    "chank_size=3\n",
    "\n",
    "for chank in chanker(my_string_generator(N), 3):\n",
    "    pass\n"
   ]
  },
  {
   "cell_type": "markdown",
   "id": "c38998a1",
   "metadata": {},
   "source": [
    "### Задача 8 (Декоратор-ретрай)\n",
    "\n",
    "Напишите функцию, которая принимает число N и с вероятностью 1/N возвращает строку, а в остальных случаях порождает исключение.\n",
    "\n",
    "Напишите декоратор, который пытается выполнить функцию заданное кол-во раз и задекорируйте ее.\n"
   ]
  },
  {
   "cell_type": "code",
   "execution_count": 146,
   "id": "fa80bb16",
   "metadata": {},
   "outputs": [
    {
     "name": "stdout",
     "output_type": "stream",
     "text": [
      "error\n",
      "error\n",
      "error\n",
      "error\n"
     ]
    },
    {
     "data": {
      "text/plain": [
       "'string'"
      ]
     },
     "execution_count": 146,
     "metadata": {},
     "output_type": "execute_result"
    }
   ],
   "source": [
    "from random import randint\n",
    "import functools\n",
    "\n",
    "def retry(num_times):\n",
    "  def decorator(func):\n",
    "    @functools.wraps(func)\n",
    "    def wrapper(*args, **kwargs):\n",
    "      for _ in range(num_times):\n",
    "        try:\n",
    "          return func(*args, **kwargs)\n",
    "        except Exception as e:\n",
    "          print(e)\n",
    "    return wrapper\n",
    "  return decorator\n",
    "\n",
    "@retry(100)\n",
    "def print_string(N):\n",
    "  if randint(1, N) == 1:\n",
    "    return \"string\"\n",
    "  raise Exception(\"error\")\n",
    "\n",
    "print_string(10)"
   ]
  },
  {
   "cell_type": "markdown",
   "id": "85cb492e",
   "metadata": {},
   "source": [
    "### Задание 9 (Использование паттера Singleton)\n",
    "\n",
    "Найдите на github примеры кода (5 штук), где применяется паттерн singleton. У репозитория, в которым вы ищите, должно быть более 10 звездочек.\n",
    "\n",
    "Ниже вставьте примеры такого кода (5 штук) и напишите где именно используется паттерн и зачем"
   ]
  },
  {
   "cell_type": "code",
   "execution_count": null,
   "id": "150b8bfd",
   "metadata": {},
   "outputs": [],
   "source": []
  },
  {
   "cell_type": "markdown",
   "id": "9426bdf7",
   "metadata": {},
   "source": [
    "### Задача 10 (Решатель судоку)\n",
    "\n",
    "Напишите программу, которая принимает матричку 9*9 (список списков), которая представляет собой кроссворд-судоку.\n",
    "В местах, куда надо вставить значения - -**1**\n",
    "\n",
    "И напишите функцию (функции), которые решают судоку и выводят результат"
   ]
  },
  {
   "cell_type": "code",
   "execution_count": null,
   "id": "ffac77f0",
   "metadata": {},
   "outputs": [],
   "source": []
  },
  {
   "cell_type": "markdown",
   "id": "248cd2e9",
   "metadata": {},
   "source": [
    "### Задача 11 (сколько гостей было в отеле одномоментно)\n",
    "Представьте, что вы - менеджер отеля и хотите знать, сколько гостей было в отеле максимально за весь период.\n",
    "\n",
    "Каждый гость характеризуется тюплом (day_start, day_end), который показывает, когда гость заселился и выселился из отеля. Имейте в виду, что время заселения всегда больше, чем время выселения, то есть гости (1, 6) и (6, 8) не пересекались друг с другом.\n",
    "\n",
    "Напишите функцию, которая позволяет определить, сколько гостей в отеле было максимально. Входные данные вышей функции - список из тюплов.\n",
    "\n",
    "Примеры: \n",
    "\n",
    "    1. [(0, 1), (1, 2), (0, 3)] -> 2\n",
    "    2. [(10, 20), (5, 7), (5, 20), (20, 21)] -> 3"
   ]
  },
  {
   "cell_type": "code",
   "execution_count": null,
   "id": "4498c2b7",
   "metadata": {},
   "outputs": [],
   "source": []
  },
  {
   "cell_type": "markdown",
   "id": "137f0bc6",
   "metadata": {},
   "source": [
    "### Задача 12 (проверка на центр отрезка)\n",
    "\n",
    "Пусть у вас есть 3 числа - первые два задают начало и конец отрезка, а третье - предполагаемую середину. Все вводные значения - float\n",
    "\n",
    "Необходимо написать функцию, которая проверяет, является ли третье число серединой отрезка.\n"
   ]
  },
  {
   "cell_type": "code",
   "execution_count": 193,
   "id": "5e4b65ef-4d40-4303-950c-2a0e643e8dfd",
   "metadata": {},
   "outputs": [
    {
     "name": "stdout",
     "output_type": "stream",
     "text": [
      "Точка -0.15 является серидиной отрезка [-0.2, -0.1]\n",
      "Точка 0.15 является серидиной отрезка [0.1, 0.2]\n"
     ]
    }
   ],
   "source": [
    "from math import isclose \n",
    "\n",
    "def is_mid_point(start, end, middle):\n",
    "    if start < middle < end:\n",
    "        if isclose((start + end) / 2, middle):\n",
    "            return f'Точка {middle} является серидиной отрезка [{start}, {end}]'\n",
    "        else:\n",
    "            return f'Точка {middle} не является серидиной отрезка [{start}, {end}]'\n",
    "    elif start > end:\n",
    "        raise ValueError(f'Начальная точка отрезка должна быть меньше конеченой')\n",
    "    else:\n",
    "        raise ValueError(f'точка {middle} лежит вне отрезка [{start}, {end}]')\n",
    "\n",
    "print(is_mid_point(-0.2, -0.1, -0.15))\n",
    "print(is_mid_point(0.1, 0.2, 0.15))"
   ]
  },
  {
   "cell_type": "markdown",
   "id": "f4d56a8b",
   "metadata": {},
   "source": [
    "### Задача 13 (классы)\n",
    "\n",
    "Это задача дает большой простор для креатива. Вам надо написать класс (или классы), где вы продемонстрируйте владение такими штуками, как проперти, классметод, статикметод, магические методы (достаточно показать владение несколькими из них)."
   ]
  },
  {
   "cell_type": "code",
   "execution_count": null,
   "id": "7886610e",
   "metadata": {},
   "outputs": [],
   "source": []
  }
 ],
 "metadata": {
  "kernelspec": {
   "display_name": "Python 3 (ipykernel)",
   "language": "python",
   "name": "python3"
  },
  "language_info": {
   "codemirror_mode": {
    "name": "ipython",
    "version": 3
   },
   "file_extension": ".py",
   "mimetype": "text/x-python",
   "name": "python",
   "nbconvert_exporter": "python",
   "pygments_lexer": "ipython3",
   "version": "3.11.6"
  }
 },
 "nbformat": 4,
 "nbformat_minor": 5
}
